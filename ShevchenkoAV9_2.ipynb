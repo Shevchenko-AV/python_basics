{
 "cells": [
  {
   "cell_type": "code",
   "execution_count": 1,
   "id": "0850bf7a",
   "metadata": {},
   "outputs": [
    {
     "name": "stdout",
     "output_type": "stream",
     "text": [
      "1719.0\n"
     ]
    }
   ],
   "source": [
    "import requests\n",
    "from pprint import pprint\n",
    "import pandas as pd\n",
    "\n",
    "API_URL = 'https://api-metrika.yandex.ru/stat/v1/data'\n",
    "# период отчета\n",
    "start_date = '2023-10-01'\n",
    "end_date = '2023-10-07'\n",
    "\n",
    "# 44147844 - демо-счетчик Метрики\n",
    "counter = 44147844\n",
    "# для доступа к демо-счетчику нужен пустой заголовок веб-запроса\n",
    "headers = ''\n",
    "\n",
    "# задаем параметры запроса\n",
    "params = {\n",
    "            'id': counter,\n",
    "            'date1': start_date,\n",
    "            'date2': end_date,\n",
    "            'metrics': 'ym:s:users',\n",
    "            'dimensions': 'ym:s:regionCity',\n",
    "        }\n",
    "\n",
    "r = requests.get(API_URL, params=params, headers=headers)\n",
    "with open('metrika_data.csv', 'w', encoding = 'utf-8') as f:\n",
    "    f.write('City,Metrics\\n')\n",
    "    for rec in r.json()['data']:\n",
    "        f.write('{},{}\\n'.format(rec['dimensions'][0]['name'], rec['metrics'][0]))\n",
    "df = pd.read_csv('metrika_data.csv')\n",
    "df['Metrics'] = pd.to_numeric(df['Metrics'])\n",
    "pprint(df['Metrics'].sum())"
   ]
  }
 ],
 "metadata": {
  "kernelspec": {
   "display_name": "Python 3 (ipykernel)",
   "language": "python",
   "name": "python3"
  },
  "language_info": {
   "codemirror_mode": {
    "name": "ipython",
    "version": 3
   },
   "file_extension": ".py",
   "mimetype": "text/x-python",
   "name": "python",
   "nbconvert_exporter": "python",
   "pygments_lexer": "ipython3",
   "version": "3.11.5"
  }
 },
 "nbformat": 4,
 "nbformat_minor": 5
}
