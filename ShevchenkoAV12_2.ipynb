{
 "cells": [
  {
   "cell_type": "code",
   "execution_count": 1,
   "id": "dd3db1b4",
   "metadata": {},
   "outputs": [
    {
     "name": "stdout",
     "output_type": "stream",
     "text": [
      "Игры невыгодна, за 1000 вложенных рублей, игрок получает 805 рублей\n"
     ]
    }
   ],
   "source": [
    "win_of_777 = 1\n",
    "win_of_999 = 1\n",
    "win_of_555 = 1\n",
    "win_of_333 = 1\n",
    "win_of_111 = 1\n",
    "win_of_77 = 10\n",
    "win_of_7 = 100 - 10 # *77 тоже подходят, но они уже посчитаны в другом результате\n",
    "win_of_00 = 10\n",
    "win_of_0 = 100 - 10 # *00 тоже подходят, но они уже посчитаны в другом результате\n",
    "win_of_other = 1000 - win_of_777 - win_of_999 - win_of_555 - win_of_333 - win_of_111 - win_of_77 - win_of_7 - win_of_00 - win_of_0\n",
    "\n",
    "win_for_1000_games = win_of_777 * 200 + win_of_999 * 100 + win_of_555 * 50 + win_of_333 * 15 + win_of_111 * 10 + win_of_77 * 5 + win_of_7 * 3 + win_of_00 * 2 + win_of_0 * 1 + win_of_other * 0\n",
    "success = win_for_1000_games > 1000\n",
    "if success:\n",
    "  print(f'Игры выгодна, за 1000 вложенных рублей, игрок получает {win_for_1000_games} рублей')\n",
    "else:\n",
    "  print(f'Игры невыгодна, за 1000 вложенных рублей, игрок получает {win_for_1000_games} рублей')"
   ]
  }
 ],
 "metadata": {
  "kernelspec": {
   "display_name": "Python 3 (ipykernel)",
   "language": "python",
   "name": "python3"
  },
  "language_info": {
   "codemirror_mode": {
    "name": "ipython",
    "version": 3
   },
   "file_extension": ".py",
   "mimetype": "text/x-python",
   "name": "python",
   "nbconvert_exporter": "python",
   "pygments_lexer": "ipython3",
   "version": "3.11.5"
  }
 },
 "nbformat": 4,
 "nbformat_minor": 5
}
