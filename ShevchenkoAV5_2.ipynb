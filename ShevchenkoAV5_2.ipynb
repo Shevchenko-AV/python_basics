{
 "cells": [
  {
   "cell_type": "code",
   "execution_count": 1,
   "id": "0fade3ab",
   "metadata": {},
   "outputs": [
    {
     "name": "stdout",
     "output_type": "stream",
     "text": [
      "The Moscow Times 2002-10-02 00:00:00 <class 'datetime.datetime'>\n",
      "The Guardian 2013-10-11 00:00:00 <class 'datetime.datetime'>\n",
      "Daily News 1977-08-18 00:00:00 <class 'datetime.datetime'>\n"
     ]
    }
   ],
   "source": [
    "from datetime import datetime\n",
    "\n",
    "dates = {}\n",
    "dates['The Moscow Times'] = datetime.strptime('Wednesday, October 2, 2002', '%A, %B %d, %Y')\n",
    "dates['The Guardian'] = datetime.strptime('Friday, 11.10.13', '%A, %d.%m.%y')\n",
    "dates['Daily News'] = datetime.strptime('Thursday, 18 August 1977', '%A, %d %B %Y')\n",
    "for key, value in dates.items():\n",
    "  print(key, value, type(value))"
   ]
  }
 ],
 "metadata": {
  "kernelspec": {
   "display_name": "Python 3 (ipykernel)",
   "language": "python",
   "name": "python3"
  },
  "language_info": {
   "codemirror_mode": {
    "name": "ipython",
    "version": 3
   },
   "file_extension": ".py",
   "mimetype": "text/x-python",
   "name": "python",
   "nbconvert_exporter": "python",
   "pygments_lexer": "ipython3",
   "version": "3.11.4"
  }
 },
 "nbformat": 4,
 "nbformat_minor": 5
}
