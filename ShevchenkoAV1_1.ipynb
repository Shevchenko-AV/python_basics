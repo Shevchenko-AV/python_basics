{
  "nbformat": 4,
  "nbformat_minor": 0,
  "metadata": {
    "colab": {
      "provenance": []
    },
    "kernelspec": {
      "name": "python3",
      "display_name": "Python 3"
    },
    "language_info": {
      "name": "python"
    }
  },
  "cells": [
    {
      "cell_type": "code",
      "execution_count": null,
      "metadata": {
        "colab": {
          "base_uri": "https://localhost:8080/"
        },
        "id": "C_8SLNTzjDVU",
        "outputId": "a875cc85-6ee2-410a-a044-898dd35699f7"
      },
      "outputs": [
        {
          "output_type": "stream",
          "name": "stdout",
          "text": [
            "Високосный год\n"
          ]
        }
      ],
      "source": [
        "year = 2020\n",
        "is_divisible_by_4 = year % 4 == 0\n",
        "is_divisible_by_100 = year % 100 == 0\n",
        "is_divisible_by_400 = year % 400 == 0\n",
        "is_leap_year = is_divisible_by_4 and (not is_divisible_by_100 or (is_divisible_by_100 and is_divisible_by_400))\n",
        "if is_leap_year:\n",
        "  print('Високосный год')\n",
        "else:\n",
        "  print('Обычный год')"
      ]
    },
    {
      "cell_type": "code",
      "source": [
        "year = 2019\n",
        "is_divisible_by_4 = year % 4 == 0\n",
        "is_divisible_by_100 = year % 100 == 0\n",
        "is_divisible_by_400 = year % 400 == 0\n",
        "is_leap_year = is_divisible_by_4 and (not is_divisible_by_100 or (is_divisible_by_100 and is_divisible_by_400))\n",
        "if is_leap_year:\n",
        "  print('Високосный год')\n",
        "else:\n",
        "  print('Обычный год')"
      ],
      "metadata": {
        "colab": {
          "base_uri": "https://localhost:8080/"
        },
        "id": "R0y_qMzJkG-r",
        "outputId": "bf53cfd4-4df4-4160-9ad8-6ae014b58363"
      },
      "execution_count": null,
      "outputs": [
        {
          "output_type": "stream",
          "name": "stdout",
          "text": [
            "Обычный год\n"
          ]
        }
      ]
    }
  ]
}
