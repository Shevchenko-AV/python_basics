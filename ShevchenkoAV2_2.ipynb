{
 "cells": [
  {
   "cell_type": "code",
   "execution_count": 2,
   "id": "c8051cf8",
   "metadata": {},
   "outputs": [
    {
     "name": "stdout",
     "output_type": "stream",
     "text": [
      "Идеальные пары:\n",
      "Alex и Emma\n",
      "Arthur и Kate\n",
      "John и Kira\n",
      "Peter и Liza\n",
      "Richard и Trisha\n"
     ]
    }
   ],
   "source": [
    "boys = ['Peter', 'Alex', 'John', 'Arthur', 'Richard']\n",
    "girls = ['Kate', 'Liza', 'Kira', 'Emma', 'Trisha']\n",
    "boys_len = len(boys)\n",
    "girls_len = len(girls)\n",
    "if boys_len == girls_len:\n",
    "  boys = sorted(boys)\n",
    "  girls = sorted(girls)\n",
    "  print('Идеальные пары:')\n",
    "  i = 0\n",
    "  while i < boys_len:\n",
    "    print(f'{boys[i]} и {girls[i]}')\n",
    "    i = i + 1\n",
    "else:\n",
    "  print('Внимание, кто-то может остаться без пары!')"
   ]
  },
  {
   "cell_type": "code",
   "execution_count": 3,
   "id": "92014797",
   "metadata": {},
   "outputs": [
    {
     "name": "stdout",
     "output_type": "stream",
     "text": [
      "Внимание, кто-то может остаться без пары!\n"
     ]
    }
   ],
   "source": [
    "boys = ['Peter', 'Alex', 'John', 'Arthur', 'Richard', 'Michael']\n",
    "girls = ['Kate', 'Liza', 'Kira', 'Emma', 'Trisha']\n",
    "boys_len = len(boys)\n",
    "girls_len = len(girls)\n",
    "if boys_len == girls_len:\n",
    "  boys = sorted(boys)\n",
    "  girls = sorted(girls)\n",
    "  print('Идеальные пары:')\n",
    "  i = 0\n",
    "  while i < boys_len:\n",
    "    print(f'{boys[i]} и {girls[i]}')\n",
    "    i = i + 1\n",
    "else:\n",
    "  print('Внимание, кто-то может остаться без пары!')"
   ]
  }
 ],
 "metadata": {
  "kernelspec": {
   "display_name": "Python 3 (ipykernel)",
   "language": "python",
   "name": "python3"
  },
  "language_info": {
   "codemirror_mode": {
    "name": "ipython",
    "version": 3
   },
   "file_extension": ".py",
   "mimetype": "text/x-python",
   "name": "python",
   "nbconvert_exporter": "python",
   "pygments_lexer": "ipython3",
   "version": "3.11.4"
  }
 },
 "nbformat": 4,
 "nbformat_minor": 5
}
