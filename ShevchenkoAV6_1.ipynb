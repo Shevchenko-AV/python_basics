{
 "cells": [
  {
   "cell_type": "code",
   "execution_count": 1,
   "id": "a5a65853",
   "metadata": {},
   "outputs": [
    {
     "data": {
      "text/plain": [
       "movieId  title                                    \n",
       "318      Shawshank Redemption, The (1994)             153\n",
       "296      Pulp Fiction (1994)                          123\n",
       "356      Forrest Gump (1994)                          116\n",
       "2571     Matrix, The (1999)                           109\n",
       "260      Star Wars: Episode IV - A New Hope (1977)    104\n",
       "Name: movieId, dtype: int64"
      ]
     },
     "execution_count": 1,
     "metadata": {},
     "output_type": "execute_result"
    }
   ],
   "source": [
    "import pandas as pd\n",
    "\n",
    "movies = pd.read_csv('movies.csv')\n",
    "ratings = pd.read_csv('ratings.csv')[['movieId','rating']]\n",
    "merged = ratings.merge(movies, on = 'movieId', how = 'left')\n",
    "max_rating = ratings['rating'].max()\n",
    "filtered = merged[(merged['rating'] == max_rating)]\n",
    "top_movies = filtered.groupby(['movieId' , 'title'])['movieId'].count().sort_values(ascending = False)\n",
    "top_movies.head()"
   ]
  }
 ],
 "metadata": {
  "kernelspec": {
   "display_name": "Python 3 (ipykernel)",
   "language": "python",
   "name": "python3"
  },
  "language_info": {
   "codemirror_mode": {
    "name": "ipython",
    "version": 3
   },
   "file_extension": ".py",
   "mimetype": "text/x-python",
   "name": "python",
   "nbconvert_exporter": "python",
   "pygments_lexer": "ipython3",
   "version": "3.11.4"
  }
 },
 "nbformat": 4,
 "nbformat_minor": 5
}
