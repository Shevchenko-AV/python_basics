{
 "cells": [
  {
   "cell_type": "code",
   "execution_count": 2,
   "id": "c93d0032",
   "metadata": {},
   "outputs": [
    {
     "data": {
      "text/plain": [
       "{15, 35, 54, 98, 119, 213}"
      ]
     },
     "execution_count": 2,
     "metadata": {},
     "output_type": "execute_result"
    }
   ],
   "source": [
    "ids = {'user1': [213,213,213,15,213],\n",
    "       'user2': [54,54,119,119,119],\n",
    "       'user3': [213,98,98,35]}\n",
    "unic_number = set(ids['user1']+ids['user2']+ids['user3'])\n",
    "unic_number"
   ]
  },
  {
   "cell_type": "code",
   "execution_count": null,
   "id": "9246f6de",
   "metadata": {},
   "outputs": [],
   "source": [
    "queries = [ 'смотреть сериалы онлайн',\n",
    "            'новости спорта',\n",
    "            'афиша кино',\n",
    "            'курс доллара',\n",
    "            'сериалы этим летом',\n",
    "            'курс по питону',\n",
    "            'сериалы про спорт']\n",
    "one_word = [element.split() for element in queries]\n",
    "one_word"
   ]
  }
 ],
 "metadata": {
  "kernelspec": {
   "display_name": "Python 3 (ipykernel)",
   "language": "python",
   "name": "python3"
  },
  "language_info": {
   "codemirror_mode": {
    "name": "ipython",
    "version": 3
   },
   "file_extension": ".py",
   "mimetype": "text/x-python",
   "name": "python",
   "nbconvert_exporter": "python",
   "pygments_lexer": "ipython3",
   "version": "3.11.4"
  }
 },
 "nbformat": 4,
 "nbformat_minor": 5
}
