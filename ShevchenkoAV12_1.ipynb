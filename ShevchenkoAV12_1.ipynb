{
 "cells": [
  {
   "cell_type": "code",
   "execution_count": 1,
   "id": "5f217417",
   "metadata": {},
   "outputs": [
    {
     "name": "stdout",
     "output_type": "stream",
     "text": [
      "0.80424\n",
      "Вложено 1000000, выиграно в среднем -0.19576000000000005, игра невыгодна\n"
     ]
    }
   ],
   "source": [
    "import numpy as np\n",
    "\n",
    "def play():\n",
    "# генерируем дискретную величину\n",
    "  r = np.random.randint(0, 1000)\n",
    "  t = '%03d' % r\n",
    "  if t == '777':\n",
    "    #print('Вы выиграли 200 руб!')\n",
    "    return 200\n",
    "  elif t == '999':\n",
    "    #print('Вы выиграли 100 руб!')\n",
    "    return 100\n",
    "  elif t == '555':\n",
    "    #print('Вы выиграли 50 руб!')\n",
    "    return 50\n",
    "  elif t == '333':\n",
    "    #print('Вы выиграли 15 руб!')\n",
    "    return 15\n",
    "  elif t == '111':\n",
    "    #print('Вы выиграли 10 руб!')\n",
    "    return 10\n",
    "  elif t[1:] == '77':\n",
    "    #print('Вы выиграли 5 руб!')\n",
    "    return 5\n",
    "  elif t[2] == '7':\n",
    "    #print('Вы выиграли 3 руб!')\n",
    "    return 3\n",
    "  elif t[1:] == '00':\n",
    "    #print('Вы выиграли 2 руб!')\n",
    "    return 2\n",
    "  elif t[2] == '0':\n",
    "    #print('Вы выиграли 1 руб!')\n",
    "    return 1\n",
    "  else:\n",
    "    #print('Неудача :(')\n",
    "    return 0\n",
    "\n",
    "sum = 0\n",
    "for i in range(1000000):\n",
    "  win = play()\n",
    "  sum = sum + win\n",
    "total = sum / 1000000\n",
    "print(total)\n",
    "print(f'Вложено 1000000, выиграно в среднем {total - 1}, игра {\"выгодна\" if total - 1 > 0 else \"невыгодна\"}')"
   ]
  }
 ],
 "metadata": {
  "kernelspec": {
   "display_name": "Python 3 (ipykernel)",
   "language": "python",
   "name": "python3"
  },
  "language_info": {
   "codemirror_mode": {
    "name": "ipython",
    "version": 3
   },
   "file_extension": ".py",
   "mimetype": "text/x-python",
   "name": "python",
   "nbconvert_exporter": "python",
   "pygments_lexer": "ipython3",
   "version": "3.11.5"
  }
 },
 "nbformat": 4,
 "nbformat_minor": 5
}
