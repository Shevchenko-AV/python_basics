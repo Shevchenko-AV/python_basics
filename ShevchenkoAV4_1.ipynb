{
 "cells": [
  {
   "cell_type": "code",
   "execution_count": 1,
   "id": "232cc3e1",
   "metadata": {},
   "outputs": [
    {
     "name": "stdout",
     "output_type": "stream",
     "text": [
      "Введите команду:p\n",
      "Введите номер документа:10006\n",
      "Результат:\n",
      "Владелец документа: Аристарх Павлов\n",
      "Введите команду:q\n"
     ]
    }
   ],
   "source": [
    "documents = [\n",
    "    { 'type': 'password', 'number': '2207 876234', 'name': 'Василий Гулкин' },\n",
    "    { 'type': 'invoice', 'number': '11-2', 'name': 'Геннадий Покемонов' },\n",
    "    { 'type': 'insurance', 'number': '10006', 'name': 'Аристарх Павлов' }\n",
    "    ]\n",
    "directories = {\n",
    "    '1':[ '2207 876234', '11-2' ],\n",
    "    '2':[ '10006' ],\n",
    "    '3':[]\n",
    "}\n",
    "\n",
    "def get_documents(number):\n",
    "  name = ''\n",
    "  for doc in documents:\n",
    "    if (doc['number'] == number):\n",
    "      name = doc['name']\n",
    "  if name != '':\n",
    "    return f'Владелец документа: {name}'\n",
    "  else:\n",
    "    return ''\n",
    "\n",
    "def get_directories(number):\n",
    "  polka = ''\n",
    "  for key, value in directories.items():\n",
    "    if (value['number'] == number):\n",
    "      name = key\n",
    "  if polka != '':\n",
    "    return f'Документ хранится на полке: {polka}'\n",
    "  else:\n",
    "    return ''\n",
    "\n",
    "while True:\n",
    "  command = input('Введите команду:')\n",
    "  if command == 'q':\n",
    "    break\n",
    "  else:\n",
    "    number = input('Введите номер документа:')\n",
    "    result = ''\n",
    "    if command == 'p':\n",
    "      result = get_documents(number)\n",
    "    elif command == 's':\n",
    "      result = get_directories(number)\n",
    "    if result != '':\n",
    "      print('Результат:')\n",
    "      print(result)"
   ]
  }
 ],
 "metadata": {
  "kernelspec": {
   "display_name": "Python 3 (ipykernel)",
   "language": "python",
   "name": "python3"
  },
  "language_info": {
   "codemirror_mode": {
    "name": "ipython",
    "version": 3
   },
   "file_extension": ".py",
   "mimetype": "text/x-python",
   "name": "python",
   "nbconvert_exporter": "python",
   "pygments_lexer": "ipython3",
   "version": "3.11.4"
  }
 },
 "nbformat": 4,
 "nbformat_minor": 5
}
