{
 "cells": [
  {
   "cell_type": "code",
   "execution_count": 1,
   "id": "e0cb8f5d",
   "metadata": {},
   "outputs": [
    {
     "name": "stdout",
     "output_type": "stream",
     "text": [
      "Точечный график северных городов\n"
     ]
    },
    {
     "data": {
      "text/plain": [
       "<Axes: xlabel='hardness', ylabel='mortality'>"
      ]
     },
     "execution_count": 1,
     "metadata": {},
     "output_type": "execute_result"
    },
    {
     "data": {
      "image/png": "[encoded data removed]",
      "text/plain": [
       "<Figure size 640x480 with 1 Axes>"
      ]
     },
     "metadata": {},
     "output_type": "display_data"
    }
   ],
   "source": [
    "import pandas as pd\n",
    "import matplotlib.pyplot as plt\n",
    "from sklearn.model_selection import train_test_split\n",
    "import statsmodels.api as sm\n",
    "from statsmodels.sandbox.regression.predstd import wls_prediction_std\n",
    "\n",
    "url = 'https://raw.githubusercontent.com/Shevchenko-AV/python_basics/main/water.csv'\n",
    "df = pd.DataFrame()\n",
    "try:\n",
    "    df = pd.read_csv(url)\n",
    "except:\n",
    "    pass\n",
    "finally:\n",
    "    if df.empty:\n",
    "        df = pd.read_csv('water.csv')\n",
    "        \n",
    "north = df.loc[df['location'] == 'North']\n",
    "print('Точечный график северных городов')\n",
    "north.plot(kind='scatter', x='hardness', y='mortality')"
   ]
  },
  {
   "cell_type": "code",
   "execution_count": 2,
   "id": "5d63156c",
   "metadata": {},
   "outputs": [
    {
     "name": "stdout",
     "output_type": "stream",
     "text": [
      "Коэффициент корреляции Пирсона северных городов\n"
     ]
    },
    {
     "data": {
      "text/html": [
       "<div>\n",
       "<style scoped>\n",
       "    .dataframe tbody tr th:only-of-type {\n",
       "        vertical-align: middle;\n",
       "    }\n",
       "\n",
       "    .dataframe tbody tr th {\n",
       "        vertical-align: top;\n",
       "    }\n",
       "\n",
       "    .dataframe thead th {\n",
       "        text-align: right;\n",
       "    }\n",
       "</style>\n",
       "<table border=\"1\" class=\"dataframe\">\n",
       "  <thead>\n",
       "    <tr style=\"text-align: right;\">\n",
       "      <th></th>\n",
       "      <th>hardness</th>\n",
       "      <th>mortality</th>\n",
       "    </tr>\n",
       "  </thead>\n",
       "  <tbody>\n",
       "    <tr>\n",
       "      <th>hardness</th>\n",
       "      <td>1.000000</td>\n",
       "      <td>-0.368598</td>\n",
       "    </tr>\n",
       "    <tr>\n",
       "      <th>mortality</th>\n",
       "      <td>-0.368598</td>\n",
       "      <td>1.000000</td>\n",
       "    </tr>\n",
       "  </tbody>\n",
       "</table>\n",
       "</div>"
      ],
      "text/plain": [
       "           hardness  mortality\n",
       "hardness   1.000000  -0.368598\n",
       "mortality -0.368598   1.000000"
      ]
     },
     "execution_count": 2,
     "metadata": {},
     "output_type": "execute_result"
    }
   ],
   "source": [
    "print('Коэффициент корреляции Пирсона северных городов')\n",
    "north[['hardness', 'mortality']].corr()"
   ]
  },
  {
   "cell_type": "code",
   "execution_count": 3,
   "id": "47f4882d",
   "metadata": {},
   "outputs": [
    {
     "name": "stdout",
     "output_type": "stream",
     "text": [
      "Коэффициент корреляции Спирмана северных городов\n"
     ]
    },
    {
     "data": {
      "text/html": [
       "<div>\n",
       "<style scoped>\n",
       "    .dataframe tbody tr th:only-of-type {\n",
       "        vertical-align: middle;\n",
       "    }\n",
       "\n",
       "    .dataframe tbody tr th {\n",
       "        vertical-align: top;\n",
       "    }\n",
       "\n",
       "    .dataframe thead th {\n",
       "        text-align: right;\n",
       "    }\n",
       "</style>\n",
       "<table border=\"1\" class=\"dataframe\">\n",
       "  <thead>\n",
       "    <tr style=\"text-align: right;\">\n",
       "      <th></th>\n",
       "      <th>hardness</th>\n",
       "      <th>mortality</th>\n",
       "    </tr>\n",
       "  </thead>\n",
       "  <tbody>\n",
       "    <tr>\n",
       "      <th>hardness</th>\n",
       "      <td>1.000000</td>\n",
       "      <td>-0.404208</td>\n",
       "    </tr>\n",
       "    <tr>\n",
       "      <th>mortality</th>\n",
       "      <td>-0.404208</td>\n",
       "      <td>1.000000</td>\n",
       "    </tr>\n",
       "  </tbody>\n",
       "</table>\n",
       "</div>"
      ],
      "text/plain": [
       "           hardness  mortality\n",
       "hardness   1.000000  -0.404208\n",
       "mortality -0.404208   1.000000"
      ]
     },
     "execution_count": 3,
     "metadata": {},
     "output_type": "execute_result"
    }
   ],
   "source": [
    "print('Коэффициент корреляции Спирмана северных городов')\n",
    "north[['hardness', 'mortality']].corr(method='spearman')"
   ]
  },
  {
   "cell_type": "code",
   "execution_count": 4,
   "id": "1d44d35c",
   "metadata": {},
   "outputs": [
    {
     "name": "stdout",
     "output_type": "stream",
     "text": [
      "                            OLS Regression Results                            \n",
      "==============================================================================\n",
      "Dep. Variable:              mortality   R-squared:                       0.218\n",
      "Model:                            OLS   Adj. R-squared:                  0.187\n",
      "Method:                 Least Squares   F-statistic:                     7.228\n",
      "Date:                Fri, 21 Dec 2023   Prob (F-statistic):             0.0124\n",
      "Time:                        23:23:31   Log-Likelihood:                -171.85\n",
      "No. Observations:                  28   AIC:                             347.7\n",
      "Df Residuals:                      26   BIC:                             350.4\n",
      "Df Model:                           1                                         \n",
      "Covariance Type:            nonrobust                                         \n",
      "==============================================================================\n",
      "                 coef    std err          t      P>|t|      [0.025      0.975]\n",
      "------------------------------------------------------------------------------\n",
      "const       1694.9053     34.641     48.927      0.000    1623.699    1766.111\n",
      "hardness      -2.2504      0.837     -2.689      0.012      -3.971      -0.530\n",
      "==============================================================================\n",
      "Omnibus:                        4.383   Durbin-Watson:                   2.031\n",
      "Prob(Omnibus):                  0.112   Jarque-Bera (JB):                1.902\n",
      "Skew:                          -0.287   Prob(JB):                        0.386\n",
      "Kurtosis:                       1.859   Cond. No.                         65.3\n",
      "==============================================================================\n",
      "\n",
      "Notes:\n",
      "[1] Standard Errors assume that the covariance matrix of the errors is correctly specified.\n",
      "Parameters:  const       1694.905301\n",
      "hardness      -2.250389\n",
      "dtype: float64\n",
      "R2:  0.21753235135479743\n"
     ]
    }
   ],
   "source": [
    "X = north[['hardness']]\n",
    "y = north['mortality']\n",
    "X_train, X_test, y_train, y_test = train_test_split(X, y, test_size=0.20, random_state=42)\n",
    "X_const = sm.add_constant(X_train) # техническая особенность библиотеки, надо руками добавить константу\n",
    "model = sm.OLS(y_train, X_const)\n",
    "results = model.fit()\n",
    "print(results.summary())\n",
    "print('Parameters: ', results.params)\n",
    "print('R2: ', results.rsquared)"
   ]
  },
  {
   "cell_type": "code",
   "execution_count": 5,
   "id": "e4953868",
   "metadata": {},
   "outputs": [
    {
     "name": "stdout",
     "output_type": "stream",
     "text": [
      "Точечный график остатков северных городов\n"
     ]
    },
    {
     "data": {
      "text/plain": [
       "Text(0, 0.5, 'Остатки')"
      ]
     },
     "execution_count": 5,
     "metadata": {},
     "output_type": "execute_result"
    },
    {
     "data": {
      "image/png": "[encoded data removed]",
      "text/plain": [
       "<Figure size 640x480 with 1 Axes>"
      ]
     },
     "metadata": {},
     "output_type": "display_data"
    }
   ],
   "source": [
    "print('Точечный график остатков северных городов')\n",
    "plt.scatter(x=X_const.iloc[:, 1], y=results.resid)\n",
    "plt.xlabel('Прогноз')\n",
    "plt.ylabel('Остатки')"
   ]
  },
  {
   "cell_type": "code",
   "execution_count": 6,
   "id": "9934ec25",
   "metadata": {},
   "outputs": [
    {
     "name": "stdout",
     "output_type": "stream",
     "text": [
      "График остатков - гистограмма (северных городов)\n"
     ]
    },
    {
     "data": {
      "text/plain": [
       "(array([1., 1., 3., 0., 1., 2., 0., 0., 2., 2., 0., 3., 0., 1., 4., 2., 1.,\n",
       "        1., 3., 1.]),\n",
       " array([-207.14480156, -188.09394602, -169.04309047, -149.99223493,\n",
       "        -130.94137939, -111.89052384,  -92.8396683 ,  -73.78881276,\n",
       "         -54.73795722,  -35.68710167,  -16.63624613,    2.41460941,\n",
       "          21.46546496,   40.5163205 ,   59.56717604,   78.61803158,\n",
       "          97.66888713,  116.71974267,  135.77059821,  154.82145376,\n",
       "         173.8723093 ]),\n",
       " <BarContainer object of 20 artists>)"
      ]
     },
     "execution_count": 6,
     "metadata": {},
     "output_type": "execute_result"
    },
    {
     "data": {
      "image/png": "[encoded data removed]",
      "text/plain": [
       "<Figure size 640x480 with 1 Axes>"
      ]
     },
     "metadata": {},
     "output_type": "display_data"
    }
   ],
   "source": [
    "print('График остатков - гистограмма (северных городов)')\n",
    "plt.hist(results.resid, bins=20)"
   ]
  },
  {
   "cell_type": "code",
   "execution_count": null,
   "id": "498af7a5",
   "metadata": {},
   "outputs": [],
   "source": [
    "print('Взаимосвязь есть, но крайне слабая обратная линейная зависимость - чем выше жёсткость, тем ниже средняя годовая смертность')\n",
    "print('Более корректный вывод в том, что связь скорее всего нелинейная и должны учитываться другие факторы. Например, города')"
   ]
  },
  {
   "cell_type": "code",
   "execution_count": 7,
   "id": "1ca3c4e4",
   "metadata": {},
   "outputs": [
    {
     "name": "stdout",
     "output_type": "stream",
     "text": [
      "Точечный график южных городов\n"
     ]
    },
    {
     "data": {
      "text/plain": [
       "<Axes: xlabel='hardness', ylabel='mortality'>"
      ]
     },
     "execution_count": 7,
     "metadata": {},
     "output_type": "execute_result"
    },
    {
     "data": {
      "image/png": "[encoded data removed]",
      "text/plain": [
       "<Figure size 640x480 with 1 Axes>"
      ]
     },
     "metadata": {},
     "output_type": "display_data"
    }
   ],
   "source": [
    "south = df.loc[df['location'] == 'South']\n",
    "print('Точечный график южных городов')\n",
    "south.plot(kind='scatter', x='hardness', y='mortality')"
   ]
  },
  {
   "cell_type": "code",
   "execution_count": 8,
   "id": "dcecf88f",
   "metadata": {},
   "outputs": [
    {
     "name": "stdout",
     "output_type": "stream",
     "text": [
      "Коэффициент корреляции Пирсона южных городов\n"
     ]
    },
    {
     "data": {
      "text/html": [
       "<div>\n",
       "<style scoped>\n",
       "    .dataframe tbody tr th:only-of-type {\n",
       "        vertical-align: middle;\n",
       "    }\n",
       "\n",
       "    .dataframe tbody tr th {\n",
       "        vertical-align: top;\n",
       "    }\n",
       "\n",
       "    .dataframe thead th {\n",
       "        text-align: right;\n",
       "    }\n",
       "</style>\n",
       "<table border=\"1\" class=\"dataframe\">\n",
       "  <thead>\n",
       "    <tr style=\"text-align: right;\">\n",
       "      <th></th>\n",
       "      <th>hardness</th>\n",
       "      <th>mortality</th>\n",
       "    </tr>\n",
       "  </thead>\n",
       "  <tbody>\n",
       "    <tr>\n",
       "      <th>hardness</th>\n",
       "      <td>1.000000</td>\n",
       "      <td>-0.602153</td>\n",
       "    </tr>\n",
       "    <tr>\n",
       "      <th>mortality</th>\n",
       "      <td>-0.602153</td>\n",
       "      <td>1.000000</td>\n",
       "    </tr>\n",
       "  </tbody>\n",
       "</table>\n",
       "</div>"
      ],
      "text/plain": [
       "           hardness  mortality\n",
       "hardness   1.000000  -0.602153\n",
       "mortality -0.602153   1.000000"
      ]
     },
     "execution_count": 8,
     "metadata": {},
     "output_type": "execute_result"
    }
   ],
   "source": [
    "print('Коэффициент корреляции Пирсона южных городов')\n",
    "south[['hardness', 'mortality']].corr()"
   ]
  },
  {
   "cell_type": "code",
   "execution_count": 9,
   "id": "9203491d",
   "metadata": {},
   "outputs": [
    {
     "name": "stdout",
     "output_type": "stream",
     "text": [
      "Коэффициент корреляции Спирмана южных городов\n"
     ]
    },
    {
     "data": {
      "text/html": [
       "<div>\n",
       "<style scoped>\n",
       "    .dataframe tbody tr th:only-of-type {\n",
       "        vertical-align: middle;\n",
       "    }\n",
       "\n",
       "    .dataframe tbody tr th {\n",
       "        vertical-align: top;\n",
       "    }\n",
       "\n",
       "    .dataframe thead th {\n",
       "        text-align: right;\n",
       "    }\n",
       "</style>\n",
       "<table border=\"1\" class=\"dataframe\">\n",
       "  <thead>\n",
       "    <tr style=\"text-align: right;\">\n",
       "      <th></th>\n",
       "      <th>hardness</th>\n",
       "      <th>mortality</th>\n",
       "    </tr>\n",
       "  </thead>\n",
       "  <tbody>\n",
       "    <tr>\n",
       "      <th>hardness</th>\n",
       "      <td>1.000000</td>\n",
       "      <td>-0.595723</td>\n",
       "    </tr>\n",
       "    <tr>\n",
       "      <th>mortality</th>\n",
       "      <td>-0.595723</td>\n",
       "      <td>1.000000</td>\n",
       "    </tr>\n",
       "  </tbody>\n",
       "</table>\n",
       "</div>"
      ],
      "text/plain": [
       "           hardness  mortality\n",
       "hardness   1.000000  -0.595723\n",
       "mortality -0.595723   1.000000"
      ]
     },
     "execution_count": 9,
     "metadata": {},
     "output_type": "execute_result"
    }
   ],
   "source": [
    "print('Коэффициент корреляции Спирмана южных городов')\n",
    "south[['hardness', 'mortality']].corr(method='spearman')"
   ]
  },
  {
   "cell_type": "code",
   "execution_count": 10,
   "id": "b301d9e0",
   "metadata": {},
   "outputs": [
    {
     "name": "stdout",
     "output_type": "stream",
     "text": [
      "                            OLS Regression Results                            \n",
      "==============================================================================\n",
      "Dep. Variable:              mortality   R-squared:                       0.576\n",
      "Model:                            OLS   Adj. R-squared:                  0.552\n",
      "Method:                 Least Squares   F-statistic:                     24.41\n",
      "Date:                Fri, 21 Dec 2023   Prob (F-statistic):           0.000106\n",
      "Time:                        23:23:43   Log-Likelihood:                -119.64\n",
      "No. Observations:                  20   AIC:                             243.3\n",
      "Df Residuals:                      18   BIC:                             245.3\n",
      "Df Model:                           1                                         \n",
      "Covariance Type:            nonrobust                                         \n",
      "==============================================================================\n",
      "                 coef    std err          t      P>|t|      [0.025      0.975]\n",
      "------------------------------------------------------------------------------\n",
      "const       1595.4338     49.134     32.471      0.000    1492.208    1698.660\n",
      "hardness      -3.0747      0.622     -4.940      0.000      -4.382      -1.767\n",
      "==============================================================================\n",
      "Omnibus:                        0.425   Durbin-Watson:                   2.173\n",
      "Prob(Omnibus):                  0.808   Jarque-Bera (JB):                0.550\n",
      "Skew:                           0.243   Prob(JB):                        0.760\n",
      "Kurtosis:                       2.349   Cond. No.                         172.\n",
      "==============================================================================\n",
      "\n",
      "Notes:\n",
      "[1] Standard Errors assume that the covariance matrix of the errors is correctly specified.\n",
      "Parameters:  const       1595.433755\n",
      "hardness      -3.074661\n",
      "dtype: float64\n",
      "R2:  0.5755495589538906\n"
     ]
    }
   ],
   "source": [
    "X = south[['hardness']]\n",
    "y = south['mortality']\n",
    "X_train, X_test, y_train, y_test = train_test_split(X, y, test_size=0.20, random_state=42)\n",
    "X_const = sm.add_constant(X_train) # техническая особенность библиотеки, надо руками добавить константу\n",
    "model = sm.OLS(y_train, X_const)\n",
    "results = model.fit()\n",
    "print(results.summary())\n",
    "print('Parameters: ', results.params)\n",
    "print('R2: ', results.rsquared)"
   ]
  },
  {
   "cell_type": "code",
   "execution_count": 11,
   "id": "8953d312",
   "metadata": {},
   "outputs": [
    {
     "name": "stdout",
     "output_type": "stream",
     "text": [
      "Точечный график остатков южных городов\n"
     ]
    },
    {
     "data": {
      "text/plain": [
       "Text(0, 0.5, 'Остатки')"
      ]
     },
     "execution_count": 11,
     "metadata": {},
     "output_type": "execute_result"
    },
    {
     "data": {
      "image/png": "[encoded data removed]",
      "text/plain": [
       "<Figure size 640x480 with 1 Axes>"
      ]
     },
     "metadata": {},
     "output_type": "display_data"
    }
   ],
   "source": [
    "print('Точечный график остатков южных городов')\n",
    "plt.scatter(x=X_const.iloc[:, 1], y=results.resid)\n",
    "plt.xlabel('Прогноз')\n",
    "plt.ylabel('Остатки')"
   ]
  },
  {
   "cell_type": "code",
   "execution_count": 12,
   "id": "48059306",
   "metadata": {},
   "outputs": [
    {
     "name": "stdout",
     "output_type": "stream",
     "text": [
      "График остатков - гистограмма (южных городов)\n"
     ]
    },
    {
     "data": {
      "text/plain": [
       "(array([1., 0., 0., 1., 2., 1., 1., 3., 1., 1., 2., 1., 0., 2., 0., 1., 1.,\n",
       "        1., 0., 1.]),\n",
       " array([-184.70069149, -165.7394923 , -146.77829311, -127.81709392,\n",
       "        -108.85589473,  -89.89469554,  -70.93349635,  -51.97229716,\n",
       "         -33.01109797,  -14.04989878,    4.91130041,   23.8724996 ,\n",
       "          42.83369879,   61.79489798,   80.75609717,   99.71729636,\n",
       "         118.67849555,  137.63969474,  156.60089393,  175.56209312,\n",
       "         194.52329231]),\n",
       " <BarContainer object of 20 artists>)"
      ]
     },
     "execution_count": 12,
     "metadata": {},
     "output_type": "execute_result"
    },
    {
     "data": {
      "image/png": "[encoded data removed]",
      "text/plain": [
       "<Figure size 640x480 with 1 Axes>"
      ]
     },
     "metadata": {},
     "output_type": "display_data"
    }
   ],
   "source": [
    "print('График остатков - гистограмма (южных городов)')\n",
    "plt.hist(results.resid, bins=20)"
   ]
  },
  {
   "cell_type": "code",
   "execution_count": 13,
   "id": "9e726102",
   "metadata": {},
   "outputs": [
    {
     "name": "stdout",
     "output_type": "stream",
     "text": [
      "Для северных городов ситуация схожа на общую картину:\n",
      "1. Коэффициент детерминации стремится к нулю, а не к единице\n",
      "2. В остатках есть резкие выбросы\n",
      "3. График гистограмма остатков отличается от графика нормального распределения\n",
      "Поэтому и вывод для северных городов прежний: взаимосвязи либо нет, либо она более сложная, чем обратно линейная\n",
      "\n",
      "Для южных городов уже что-то по-другому:\n",
      "1. Коэффициент детерминации стремится теперь к единице, а не к нулю\n",
      "2. В остатках всё ещё есть резкие выбросы\n",
      "3. НО(!) график гистограмма остатков уже гораздо ближе к графику нормального распределения, чем общий и тем более, чем у северных городов\n",
      "Из чего можно сделать вывод, что взаимосвязь для южных городов обратно линейная\n"
     ]
    }
   ],
   "source": [
    "print('Для северных городов ситуация схожа на общую картину:')\n",
    "print('1. Коэффициент детерминации стремится к нулю, а не к единице')\n",
    "print('2. В остатках есть резкие выбросы')\n",
    "print('3. График гистограмма остатков отличается от графика нормального распределения')\n",
    "print('Поэтому и вывод для северных городов прежний: взаимосвязи либо нет, либо она более сложная, чем обратно линейная')\n",
    "print('\\nДля южных городов уже что-то по-другому:')\n",
    "print('1. Коэффициент детерминации стремится теперь к единице, а не к нулю')\n",
    "print('2. В остатках всё ещё есть резкие выбросы')\n",
    "print('3. НО(!) график гистограмма остатков уже гораздо ближе к графику нормального распределения, чем общий и тем более, чем у северных городов')\n",
    "print('Из чего можно сделать вывод, что взаимосвязь для южных городов обратно линейная')"
   ]
  }
 ],
 "metadata": {
  "kernelspec": {
   "display_name": "Python 3 (ipykernel)",
   "language": "python",
   "name": "python3"
  },
  "language_info": {
   "codemirror_mode": {
    "name": "ipython",
    "version": 3
   },
   "file_extension": ".py",
   "mimetype": "text/x-python",
   "name": "python",
   "nbconvert_exporter": "python",
   "pygments_lexer": "ipython3",
   "version": "3.11.5"
  }
 },
 "nbformat": 4,
 "nbformat_minor": 5
}
