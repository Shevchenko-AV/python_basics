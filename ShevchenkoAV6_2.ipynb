{
 "cells": [
  {
   "cell_type": "code",
   "execution_count": 1,
   "id": "bd059717",
   "metadata": {},
   "outputs": [
    {
     "name": "stdout",
     "output_type": "stream",
     "text": [
      "Суммарное потребление стран Прибалтики категорий 4, 12 и 21 за период с 2005 по 2010 год равно 164555.0\n"
     ]
    }
   ],
   "source": [
    "import pandas as pd\n",
    "\n",
    "power = pd.read_csv('power.csv')\n",
    "filtered_countries = power[(power['country'] == 'Estonia') | (power['country'] == 'Lithuania') | (power['country'] == 'Latvia') ]\n",
    "filtered_categories = filtered_countries[(filtered_countries['category'] == 4) | (filtered_countries['category'] == 12) | (filtered_countries['category'] == 21) ]\n",
    "filtered_years = filtered_categories[(filtered_categories['year'] > 2005) & (filtered_categories['year'] < 2010)]\n",
    "filtered_power = filtered_years[(filtered_years['quantity'] >= 0)]\n",
    "power_result = filtered_power['quantity'].sum()\n",
    "print(f'Суммарное потребление стран Прибалтики категорий 4, 12 и 21 за период с 2005 по 2010 год равно {power_result}')"
   ]
  }
 ],
 "metadata": {
  "kernelspec": {
   "display_name": "Python 3 (ipykernel)",
   "language": "python",
   "name": "python3"
  },
  "language_info": {
   "codemirror_mode": {
    "name": "ipython",
    "version": 3
   },
   "file_extension": ".py",
   "mimetype": "text/x-python",
   "name": "python",
   "nbconvert_exporter": "python",
   "pygments_lexer": "ipython3",
   "version": "3.11.4"
  }
 },
 "nbformat": 4,
 "nbformat_minor": 5
}
