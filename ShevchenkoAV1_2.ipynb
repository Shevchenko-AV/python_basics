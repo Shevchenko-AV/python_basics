{
  "nbformat": 4,
  "nbformat_minor": 0,
  "metadata": {
    "colab": {
      "provenance": []
    },
    "kernelspec": {
      "name": "python3",
      "display_name": "Python 3"
    },
    "language_info": {
      "name": "python"
    }
  },
  "cells": [
    {
      "cell_type": "code",
      "execution_count": null,
      "metadata": {
        "colab": {
          "base_uri": "https://localhost:8080/"
        },
        "id": "7ATug1jUlw_F",
        "outputId": "2d371d90-1414-4af7-de80-de8d348ca201"
      },
      "outputs": [
        {
          "output_type": "stream",
          "name": "stdout",
          "text": [
            "Несчастливый билет\n"
          ]
        }
      ],
      "source": [
        "number = 123456\n",
        "a1 = number // 100000\n",
        "a2 = number % 100000 // 10000\n",
        "a3 = number % 10000 // 1000\n",
        "a4 = number % 1000 // 100\n",
        "a5 = number % 100 // 10\n",
        "a6 = number % 10\n",
        "left = a1 + a2 + a3\n",
        "right = a4 + a5 + a6\n",
        "is_happy_ticket = left == right\n",
        "if is_happy_ticket:\n",
        "  print('Счастливый билет')\n",
        "else:\n",
        "  print('Несчастливый билет')"
      ]
    },
    {
      "cell_type": "code",
      "source": [
        "number = 123321\n",
        "a1 = number // 100000\n",
        "a2 = number % 100000 // 10000\n",
        "a3 = number % 10000 // 1000\n",
        "a4 = number % 1000 // 100\n",
        "a5 = number % 100 // 10\n",
        "a6 = number % 10\n",
        "left = a1 + a2 + a3\n",
        "right = a4 + a5 + a6\n",
        "is_happy_ticket = left == right\n",
        "if is_happy_ticket:\n",
        "  print('Счастливый билет')\n",
        "else:\n",
        "  print('Несчастливый билет')"
      ],
      "metadata": {
        "colab": {
          "base_uri": "https://localhost:8080/"
        },
        "id": "bLUwUc67l2jS",
        "outputId": "e89b72ba-2974-4301-dc80-187103abe387"
      },
      "execution_count": null,
      "outputs": [
        {
          "output_type": "stream",
          "name": "stdout",
          "text": [
            "Счастливый билет\n"
          ]
        }
      ]
    },
    {
      "cell_type": "code",
      "source": [],
      "metadata": {
        "id": "NVkqD161l3s2"
      },
      "execution_count": null,
      "outputs": []
    }
  ]
}