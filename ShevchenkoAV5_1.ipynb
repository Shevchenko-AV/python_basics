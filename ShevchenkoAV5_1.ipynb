{
 "cells": [
  {
   "cell_type": "code",
   "execution_count": 3,
   "id": "081001fb",
   "metadata": {},
   "outputs": [
    {
     "name": "stdout",
     "output_type": "stream",
     "text": [
      "1840e0b9d4 Продукты\n",
      "4e4f90fcfb Электроника\n",
      "afea8d72fc Электроника\n",
      "373a6055fe Бытовая техника\n",
      "9b2ab046f3 Электроника\n",
      "9f39d307c3 Электроника\n",
      "44edeffc91 Продукты\n",
      ...
      "6aaf40f927 Досуг\n",
      "8d60740ee0 Электроника\n",
      "4db5a5c449 Досуг\n",
      "fe43b593f3 Досуг\n",
      "bc4891e5ce Бытовая техника\n",
      "707c793322 Строительство и ремонт\n",
      "5896fd6638 Электроника\n",
      "85dd347fd1 Бытовая техника"
     ]
    },
    {
     "name": "stderr",
     "output_type": "stream",
     "text": [
      "IOPub data rate exceeded.\n",
      "The notebook server will temporarily stop sending output\n",
      "to the client in order to avoid crashing it.\n",
      "To change this limit, set the config variable\n",
      "`--NotebookApp.iopub_data_rate_limit`.\n",
      "\n",
      "Current values:\n",
      "NotebookApp.iopub_data_rate_limit=1000000.0 (bytes/sec)\n",
      "NotebookApp.rate_limit_window=3.0 (secs)\n",
      "\n"
     ]
    }
   ],
   "source": [
    "import json\n",
    "\n",
    "purchases = {}\n",
    "with open('purchase_log.txt', 'r', encoding='utf-8') as f:\n",
    "  for i, line in enumerate(f):\n",
    "    if i == 0:\n",
    "      continue\n",
    "    purchase = json.loads(line.strip())\n",
    "    purchases[purchase['user_id']] = purchase['category']\n",
    "for key, value in purchases.items():\n",
    "  print(key, value)"
   ]
  }
 ],
 "metadata": {
  "kernelspec": {
   "display_name": "Python 3 (ipykernel)",
   "language": "python",
   "name": "python3"
  },
  "language_info": {
   "codemirror_mode": {
    "name": "ipython",
    "version": 3
   },
   "file_extension": ".py",
   "mimetype": "text/x-python",
   "name": "python",
   "nbconvert_exporter": "python",
   "pygments_lexer": "ipython3",
   "version": "3.11.4"
  }
 },
 "nbformat": 4,
 "nbformat_minor": 5
}
